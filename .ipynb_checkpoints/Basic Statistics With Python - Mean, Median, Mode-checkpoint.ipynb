{
 "cells": [
  {
   "cell_type": "markdown",
   "id": "cathedral-apple",
   "metadata": {},
   "source": [
    "# Statistics With Python"
   ]
  },
  {
   "cell_type": "code",
   "execution_count": 18,
   "id": "optical-identification",
   "metadata": {
    "scrolled": true
   },
   "outputs": [],
   "source": [
    "import numpy as np\n",
    "import matplotlib.pyplot as plt\n",
    "from IPython import display\n",
    "%matplotlib inline"
   ]
  },
  {
   "cell_type": "markdown",
   "id": "invisible-bidder",
   "metadata": {},
   "source": [
    "## Measures of central tendency"
   ]
  },
  {
   "cell_type": "markdown",
   "id": "pretty-kidney",
   "metadata": {},
   "source": [
    "### Mean\n",
    "Mean is nothing but summation of all values (in a list most of the times) divided by the total number of observations in the list...\n",
    "Thus for a list of n-numbers(observations), formula will look like:\n",
    ">                     mean(x) = (Sum of all observations in list)/(Total length of the list)\n",
    " that is \n",
    "<img src=\"https://raw.githubusercontent.com/dev-sandarbh/assets/master/mean_formula.gif\"/>"
   ]
  },
  {
   "cell_type": "code",
   "execution_count": 19,
   "id": "powerful-stanford",
   "metadata": {
    "scrolled": true
   },
   "outputs": [
    {
     "name": "stdout",
     "output_type": "stream",
     "text": [
      "List x =  [15 50 48 30 39 35 20 36 57 37 97 61 37 78 52 62 97 87 87 14 37 57 55 27\n",
      " 62 49 79 49 77 67 89 58 41 77 20 86 74 77 32 80 64 60 21 26 64 85 16 69\n",
      " 90 50]\n"
     ]
    }
   ],
   "source": [
    "#Example of making a list using numpy\n",
    "x = np.random.randint(11,99,50)\n",
    "print(\"List x = \",x)"
   ]
  },
  {
   "cell_type": "code",
   "execution_count": 20,
   "id": "senior-jacob",
   "metadata": {},
   "outputs": [
    {
     "name": "stdout",
     "output_type": "stream",
     "text": [
      "Mean Value of the list x =  55.54\n"
     ]
    }
   ],
   "source": [
    "#Calculating mean using numpy\n",
    "print(\"Mean Value of the list x = \", np.mean(x))"
   ]
  },
  {
   "cell_type": "markdown",
   "id": "proof-depth",
   "metadata": {},
   "source": [
    "### Median\n",
    "Median is the middle value of the distribution when the observations are either arranged in ascending order or descending order.\n",
    "#### Steps to find median of a given list\n",
    "1. Arrange the data/observations/values either in ascending or descending order.\n",
    "2. Then check if the number of observations are even or odd.\n",
    "3. If the observations are odd then there will be only one exact middle value and that will be our median; but if number of values are even then there will be two middle values and we take mean of them and that will be our median.... \n",
    "#### Formula for finding median\n",
    "* ##### Case 1: If Observations are odd in number, then\n",
    "> <img src=\"https://raw.githubusercontent.com/dev-sandarbh/assets/master/median_odd.png\"/>\n",
    "\n",
    "* ##### Case 2: If Observations are even in number, then\n",
    "> <img src=\"https://raw.githubusercontent.com/dev-sandarbh/assets/master/median_even.png\"/>"
   ]
  },
  {
   "cell_type": "code",
   "execution_count": 21,
   "id": "fleet-germany",
   "metadata": {},
   "outputs": [
    {
     "name": "stdout",
     "output_type": "stream",
     "text": [
      "Median Value of List x =  57.0\n"
     ]
    }
   ],
   "source": [
    "#Example of median from our list m generated in mean example\n",
    "print(\"Median Value of List x = \", np.median(x))"
   ]
  },
  {
   "cell_type": "markdown",
   "id": "stunning-criticism",
   "metadata": {},
   "source": [
    "### Mode\n",
    "Mode is the most occurring value/reading/observation in the list..\n",
    "<br/>\n",
    "Unfortunately Numpy does not have any function/module to calculate mode, so we will use python's in-built module \"statistics\" to find mode for our data."
   ]
  },
  {
   "cell_type": "code",
   "execution_count": 22,
   "id": "assured-ethiopia",
   "metadata": {},
   "outputs": [],
   "source": [
    "from statistics import *"
   ]
  },
  {
   "cell_type": "code",
   "execution_count": 23,
   "id": "welsh-summary",
   "metadata": {},
   "outputs": [
    {
     "name": "stdout",
     "output_type": "stream",
     "text": [
      "List is =  [15 50 48 30 39 35 20 36 57 37 97 61 37 78 52 62 97 87 87 14 37 57 55 27\n",
      " 62 49 79 49 77 67 89 58 41 77 20 86 74 77 32 80 64 60 21 26 64 85 16 69\n",
      " 90 50]\n",
      "Mode Value of the list X =  37\n"
     ]
    }
   ],
   "source": [
    "print(\"List is = \",x)\n",
    "print(\"Mode Value of the list X = \", mode(x))"
   ]
  },
  {
   "cell_type": "code",
   "execution_count": null,
   "id": "rocky-appointment",
   "metadata": {},
   "outputs": [],
   "source": []
  }
 ],
 "metadata": {
  "celltoolbar": "Raw Cell Format",
  "kernelspec": {
   "display_name": "Python 3",
   "language": "python",
   "name": "python3"
  },
  "language_info": {
   "codemirror_mode": {
    "name": "ipython",
    "version": 3
   },
   "file_extension": ".py",
   "mimetype": "text/x-python",
   "name": "python",
   "nbconvert_exporter": "python",
   "pygments_lexer": "ipython3",
   "version": "3.8.5"
  }
 },
 "nbformat": 4,
 "nbformat_minor": 5
}
