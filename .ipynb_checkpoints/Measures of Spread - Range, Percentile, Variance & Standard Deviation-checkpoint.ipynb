{
 "cells": [
  {
   "cell_type": "code",
   "execution_count": 1,
   "id": "heated-deposit",
   "metadata": {},
   "outputs": [],
   "source": [
    "# Importing all the important libraries\n",
    "import numpy as np\n",
    "import matplotlib.pyplot as plt\n",
    "from statistics import *\n",
    "from IPython import display\n",
    "%matplotlib inline"
   ]
  },
  {
   "cell_type": "markdown",
   "id": "elementary-bunch",
   "metadata": {},
   "source": [
    "# Measure Of Spread \n",
    "A measure of spread, sometimes also called a measure of dispersion, is used to describe the variability in a sample or population. It is usually used in conjunction with a measure of central tendency, such as the mean or median, to provide an overall description of a set of data."
   ]
  },
  {
   "cell_type": "markdown",
   "id": "palestinian-latin",
   "metadata": {},
   "source": [
    "### Four Concepts in Measures Of Spread\n",
    "#### 1.  Range\n",
    "> The Range tells you how much is in between the lowest value (start value) and highest value (end value). \n",
    "#### 2. Quartiles\n",
    "> Quartiles are values that split your data into quarters. The lowest quartile is called the lower quartile, and the highest     quartile is called the upper quartile. The middle quartile is the median\n",
    "#### 3. Variance\n",
    "> The variance is a way of measuring spread, and it’s the average of the distance of values from the mean squared.\n",
    "#### 4. Standard Deviation\n",
    "> the standard deviation is a measure of how spread out data is around center of the distribution (the mean). It also gives you an idea of where, percentage wise, a certain value falls."
   ]
  },
  {
   "cell_type": "markdown",
   "id": "wireless-fireplace",
   "metadata": {},
   "source": [
    "#### Calculation of Range\n",
    "From the definition itself it is clear that range is difference of the highest and smallest values present in a dataset.\n",
    "So, \n",
    ">            Range = MaxValue(dataset) - MinValue(dataset)\n",
    "\n",
    "where MaxValue() - is a function which returns maximum value of the dataset \n",
    "& MinValue() - is a function which returns minimum value of the dataset."
   ]
  },
  {
   "cell_type": "markdown",
   "id": "fixed-stocks",
   "metadata": {},
   "source": [
    "### Finding Range"
   ]
  },
  {
   "cell_type": "code",
   "execution_count": 2,
   "id": "associate-lunch",
   "metadata": {},
   "outputs": [
    {
     "name": "stdout",
     "output_type": "stream",
     "text": [
      "Data Set =  [-0.42617473  0.27485236 -0.84926293  0.58768691 -1.38262185 -0.86249528\n",
      " -0.36253823  0.17428053 -1.34592234  0.3093388   1.61480576 -1.16187222\n",
      " -1.2132452  -0.35806265 -0.1183731  -1.05098409 -0.44999994 -1.28784661\n",
      "  1.84024941  0.66125158  1.12438327 -0.34569865 -1.25854231 -1.51192194\n",
      " -0.11763739  0.12226942  0.05013383  1.5841762   0.052215   -0.5991119\n",
      "  0.95427726 -0.45279653 -1.16757157  1.16555828 -2.56053559 -0.98436771\n",
      "  1.82028622  0.01847426  0.65002655  0.04017848  0.59193735  0.87426157\n",
      "  0.2330394  -0.30927281  0.35136533]\n",
      "Range of Data Set =  4.4007850010737055\n"
     ]
    }
   ],
   "source": [
    "#Example of finding range of a dataset of 45 observations\n",
    "data_points = np.random.randn(45)\n",
    "set_range = np.max(data_points) - np.min(data_points)     #MaxValue(data_points) - MinValue(data_points)\n",
    "print(\"Data Set = \", data_points)\n",
    "print(\"Range of Data Set = \", set_range)"
   ]
  },
  {
   "cell_type": "markdown",
   "id": "innovative-rocket",
   "metadata": {},
   "source": [
    "### Finding Quartiles\n",
    "An image has been added below for better understanding..\n",
    "\n",
    "<img src=\"https://raw.githubusercontent.com/dev-sandarbh/assets/master/quartile_iqr.png\" />\n",
    "<a href=\"https://en.wikipedia.org/wiki/Quantile\" traget=\"_blank\" align=\"center\">Image Credit : Wikipedia</a>"
   ]
  },
  {
   "cell_type": "code",
   "execution_count": 3,
   "id": "outdoor-jumping",
   "metadata": {},
   "outputs": [
    {
     "name": "stdout",
     "output_type": "stream",
     "text": [
      "First Quartile Value =  -0.8624952764885252\n",
      "Second Quartile Value =  -0.11763738734193276\n",
      "Third Quartile Value =  0.587686906083165\n"
     ]
    }
   ],
   "source": [
    "# Considering the last dataset - 'data_points'\n",
    "''' \n",
    "For finding quartiles we have a module named percentiles in numpy. \n",
    "For first quartile we use 25%, for second we have 50% and for third quartile we use 75%.\n",
    "'''\n",
    "_Q1 = np.percentile(data_points, 25)   #first argument - dataset; second argument is quartile value we wish to find\n",
    "_Q2 = np.percentile(data_points, 50)\n",
    "_Q3 = np.percentile(data_points, 75)\n",
    "\n",
    "print(\"First Quartile Value = \", _Q1)\n",
    "print(\"Second Quartile Value = \", _Q2)\n",
    "print(\"Third Quartile Value = \", _Q3)"
   ]
  },
  {
   "cell_type": "markdown",
   "id": "supreme-saskatchewan",
   "metadata": {},
   "source": [
    "### Finding the Inter - Quartile Range(IQR)\n",
    "IQR is nothing but the difference between the third quartile value and the first quartile Value..\n",
    "The area shown in the blue color in the Quartile image depicts the IQR itself.\n",
    "> So, IQR = (Q3-Q1) "
   ]
  },
  {
   "cell_type": "code",
   "execution_count": 4,
   "id": "billion-watershed",
   "metadata": {},
   "outputs": [
    {
     "name": "stdout",
     "output_type": "stream",
     "text": [
      "IQR for our dataset =  1.45018218257169\n"
     ]
    }
   ],
   "source": [
    "print(\"IQR for our dataset = \",(_Q3-_Q1))"
   ]
  },
  {
   "cell_type": "markdown",
   "id": "suburban-transfer",
   "metadata": {},
   "source": [
    "### Finding Variance\n",
    "Variance tells us that how far our data values lies from the mean/average value.\n",
    "It is calculated for two different scenarios: For Sample and for whole population.\n",
    "In Whole Polulation we consider all of the observations available in our data set whereas in sample scenario, we subtract 1 from the number of observations present in the sample set.\n",
    "\n",
    "#### Formula for Population Scenario\n",
    "<img src=\"https://raw.githubusercontent.com/dev-sandarbh/assets/579f3f7b996f16531b9a775826c8d54b724afdc1/variance_population.svg\" />\n",
    "\n",
    "#### Formula for Sample Scenarion\n",
    "<img src=\"https://raw.githubusercontent.com/dev-sandarbh/assets/579f3f7b996f16531b9a775826c8d54b724afdc1/variance_sample.svg\" />"
   ]
  },
  {
   "cell_type": "code",
   "execution_count": 5,
   "id": "encouraging-gardening",
   "metadata": {},
   "outputs": [
    {
     "data": {
      "text/plain": [
       "array([-1.81823981, -1.15691915, -0.6403733 ,  1.19522986, -1.74366978,\n",
       "       -0.75409388,  0.01174015,  1.1894297 ,  1.21489855,  0.8289737 ,\n",
       "        0.7052364 ,  0.60813143, -1.87333103,  0.56600294,  2.12579344,\n",
       "        0.93496638, -0.15951587, -1.01055288, -1.01282917, -0.03340658,\n",
       "       -0.90182846,  0.72281713, -0.84830164, -0.63732206, -0.10009057,\n",
       "       -1.27155165,  0.68766254,  0.21240806, -0.26854321,  2.09798384,\n",
       "       -0.38350306, -0.7800808 , -2.37483567,  1.18868295, -0.32145799,\n",
       "        0.19533823, -0.72624496,  0.15276737,  0.27280507,  1.26025953,\n",
       "       -0.94705355,  1.23670088,  1.78584354,  0.73950766,  0.08805194,\n",
       "       -0.71343737, -0.89773609, -1.22668962, -1.05708744, -2.13367059,\n",
       "       -0.32818812, -1.38753736,  0.03150988,  0.85476584, -1.81353495,\n",
       "       -0.41726506,  0.07652996,  0.92978952,  0.52793681, -0.39281333,\n",
       "       -0.95752662, -0.2975471 , -1.21240992,  0.33452537,  0.44328322,\n",
       "        0.76578536,  1.84027343,  0.46780634,  0.60957696, -0.93300223,\n",
       "       -0.25552669, -1.42167917, -0.38450966, -1.48431976, -0.15550774,\n",
       "        0.80532862, -0.18101943,  0.12397797, -0.60614726, -0.0681112 ,\n",
       "        0.90260713,  0.92150603,  1.75162842, -0.0867782 , -1.19382947,\n",
       "       -0.92756095, -1.01486942, -2.13259483,  1.23449602, -0.73828941,\n",
       "        0.22005974, -0.39818888, -1.70891535, -0.23042943, -0.10105487,\n",
       "       -1.11881809, -0.10552031,  0.29406309,  1.19536414,  0.11758206,\n",
       "       -0.4366251 , -0.37967003,  1.16952961, -0.27985319, -0.13225387,\n",
       "        0.04319692,  1.04634145, -1.8268122 ,  0.661948  ,  0.28466333,\n",
       "        0.93532196, -0.65324085, -0.41450264, -2.02336214,  0.99380877,\n",
       "        1.3344415 , -0.18633366,  0.65390754,  1.08742055, -0.4243984 ,\n",
       "       -0.97358573,  1.10698218,  0.96519393,  1.20049047,  1.2414746 ,\n",
       "        0.18922626,  0.22283779,  1.21472772,  0.43828917, -1.62729512,\n",
       "        1.01172905,  0.30185172, -0.48166575, -0.10883092,  0.5826943 ,\n",
       "        0.11564174, -0.34730195, -0.17315307, -2.48296729, -0.54468339,\n",
       "       -1.89623169,  0.60493962, -0.41448356, -0.46172257, -0.17901769,\n",
       "        0.90556471,  1.33581372,  1.23012655,  0.01194166,  1.04169333,\n",
       "       -0.31099831, -0.96428694, -0.285998  ,  1.05733256, -0.0777445 ,\n",
       "       -0.54471768,  0.68938311, -2.33859596,  0.36298082,  1.21795   ,\n",
       "       -0.24912247,  1.3893286 ,  0.76323513,  0.80638428, -1.2040493 ,\n",
       "       -1.0951599 ,  0.16612262,  1.71954519,  1.19482898, -0.57975139,\n",
       "       -0.12076328,  0.44178441, -1.17880429,  0.27237925, -1.08214886,\n",
       "        0.88685679, -1.63534691,  0.07240742, -0.87140663, -1.82150566,\n",
       "        0.32997828, -0.2237413 ,  2.75111935,  1.36633095,  0.07767749,\n",
       "       -0.99455318,  0.97487702,  1.15108499,  2.67532546, -2.06422384,\n",
       "       -1.82174405,  1.02209643, -1.50018285,  0.06758874, -0.52755018,\n",
       "       -1.69169385,  1.44761684, -1.50422299,  1.47747316,  0.00904864])"
      ]
     },
     "execution_count": 5,
     "metadata": {},
     "output_type": "execute_result"
    }
   ],
   "source": [
    "#let us make some population out of random data points\n",
    "population_set = np.random.randn(200)   #generating 200 values\n",
    "population_set"
   ]
  },
  {
   "cell_type": "code",
   "execution_count": 6,
   "id": "cubic-angola",
   "metadata": {},
   "outputs": [
    {
     "data": {
      "text/plain": [
       "array([ 0.76323513, -0.285998  , -0.13225387,  0.60493962, -0.27985319,\n",
       "       -2.06422384, -0.18633366,  1.20049047, -1.81823981, -0.73828941,\n",
       "        1.08742055, -0.48166575,  0.43828917, -0.10009057,  1.44761684,\n",
       "       -0.63732206,  0.03150988, -0.2237413 , -0.18101943, -0.93300223,\n",
       "        1.23012655, -0.0681112 ,  0.60493962,  0.76323513,  2.75111935,\n",
       "        0.92978952,  1.05733256,  0.36298082,  1.19522986,  0.29406309,\n",
       "       -0.38350306,  0.68766254, -0.15951587, -0.92756095, -0.57975139,\n",
       "        1.71954519,  0.60957696,  0.28466333,  0.76323513,  0.73950766,\n",
       "       -1.01282917,  1.23670088, -1.63534691,  0.60493962,  0.01194166,\n",
       "       -1.82150566, -0.93300223, -2.02336214, -0.72624496, -0.10009057,\n",
       "       -2.13259483,  0.07767749,  0.93532196,  1.78584354, -0.87140663,\n",
       "        1.23449602,  0.60813143,  0.8289737 , -0.46172257, -1.2040493 ,\n",
       "        0.80532862, -0.4243984 , -0.31099831, -1.01282917,  0.27237925,\n",
       "       -1.01282917, -0.75409388, -0.38350306, -1.81353495, -1.82150566,\n",
       "        0.16612262, -1.01486942,  0.27280507,  0.30185172,  0.80532862,\n",
       "        1.20049047, -0.41726506,  1.33581372,  0.80638428, -1.01282917,\n",
       "       -1.38753736, -0.26854321,  1.19482898, -0.0681112 ,  0.30185172,\n",
       "       -0.285998  ,  1.04634145, -2.37483567,  1.10698218, -1.62729512])"
      ]
     },
     "execution_count": 6,
     "metadata": {},
     "output_type": "execute_result"
    }
   ],
   "source": [
    "# Now we will make a random selection of 90 values for our sample\n",
    "sample_set = np.random.choice(population_set, 90)\n",
    "sample_set"
   ]
  },
  {
   "cell_type": "code",
   "execution_count": 7,
   "id": "distinct-terrace",
   "metadata": {},
   "outputs": [
    {
     "name": "stdout",
     "output_type": "stream",
     "text": [
      "Population Variance =  1.0916211610330695\n"
     ]
    }
   ],
   "source": [
    "# To calculate variance of Population data set, we write like this\n",
    "print(\"Population Variance = \", np.var(population_set))"
   ]
  },
  {
   "cell_type": "code",
   "execution_count": 8,
   "id": "positive-siemens",
   "metadata": {},
   "outputs": [
    {
     "name": "stdout",
     "output_type": "stream",
     "text": [
      "Sample Variance =  1.0591793151496864\n"
     ]
    }
   ],
   "source": [
    "# To calculate variance of Sample data set, we write like this\n",
    "print(\"Sample Variance = \", np.var(sample_set))"
   ]
  },
  {
   "cell_type": "code",
   "execution_count": 9,
   "id": "interpreted-cleanup",
   "metadata": {},
   "outputs": [
    {
     "name": "stdout",
     "output_type": "stream",
     "text": [
      "Difference Population Variance and Sample Variance =  0.03244184588338306\n"
     ]
    }
   ],
   "source": [
    "# Let us find the difference between the population variance and sample variance\n",
    "print(\"Difference Population Variance and Sample Variance = \", (np.var(population_set) - np.var(sample_set)))"
   ]
  },
  {
   "cell_type": "markdown",
   "id": "centered-blame",
   "metadata": {},
   "source": [
    "### Finding Standard Deviation\n",
    "An image has been added for better understanding of the same.\n",
    "<img src=\"https://raw.githubusercontent.com/dev-sandarbh/assets/075f813e2e14bd708c84e22460a0013ed99e32c5/stdev.svg\" />\n",
    "<a href=\"https://en.wikipedia.org/wiki/Standard_deviation\" target=\"_blank\">Image credit: Wikipedia</a>"
   ]
  },
  {
   "cell_type": "markdown",
   "id": "certain-bikini",
   "metadata": {},
   "source": [
    "#### Formula of Standard Deviation\n",
    "Standard Deviation is square root of the variance...\n",
    "<img src=\"https://raw.githubusercontent.com/dev-sandarbh/assets/5edc03049182015195fd24d227c8d02e1bc6b832/stdev_root_of_variance.svg\"/>\n",
    "\n",
    "Standard Deviation for the Population\n",
    "<img src=\"https://raw.githubusercontent.com/dev-sandarbh/assets/5edc03049182015195fd24d227c8d02e1bc6b832/population_stdev.svg\"/>\n",
    "\n",
    "Standard Deviation for the Sample\n",
    "<img src=\"https://raw.githubusercontent.com/dev-sandarbh/assets/5edc03049182015195fd24d227c8d02e1bc6b832/sample_stdev.svg\"/>"
   ]
  },
  {
   "cell_type": "code",
   "execution_count": 10,
   "id": "outstanding-phenomenon",
   "metadata": {},
   "outputs": [
    {
     "name": "stdout",
     "output_type": "stream",
     "text": [
      "Standard Deviation for Population dataset =  1.044806757746651\n",
      "Standard Deviation for Sample dataset =  1.029164377128205\n"
     ]
    }
   ],
   "source": [
    "# Finding standard deviation for population\n",
    "print(\"Standard Deviation for Population dataset = \", np.std(population_set))\n",
    "\n",
    "# Finding standard Deviation for sample\n",
    "print(\"Standard Deviation for Sample dataset = \", np.std(sample_set))"
   ]
  },
  {
   "cell_type": "code",
   "execution_count": null,
   "id": "collective-assistant",
   "metadata": {},
   "outputs": [],
   "source": []
  }
 ],
 "metadata": {
  "kernelspec": {
   "display_name": "Python 3",
   "language": "python",
   "name": "python3"
  },
  "language_info": {
   "codemirror_mode": {
    "name": "ipython",
    "version": 3
   },
   "file_extension": ".py",
   "mimetype": "text/x-python",
   "name": "python",
   "nbconvert_exporter": "python",
   "pygments_lexer": "ipython3",
   "version": "3.8.5"
  }
 },
 "nbformat": 4,
 "nbformat_minor": 5
}
